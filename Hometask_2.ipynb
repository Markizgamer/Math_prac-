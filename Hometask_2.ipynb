{
 "cells": [
  {
   "cell_type": "markdown",
   "id": "ca7cb764",
   "metadata": {},
   "source": [
    "Создайте двумерный массив 10x3, заполненный случайными значениями. В каждой строке выберите значение, наиболее близкое к 0.5."
   ]
  },
  {
   "cell_type": "code",
   "execution_count": null,
   "id": "faee0a1c",
   "metadata": {},
   "outputs": [],
   "source": [
    "import numpy as np\n",
    "a=np.random.random((10, 3))"
   ]
  },
  {
   "cell_type": "code",
   "execution_count": null,
   "id": "9d0542b6",
   "metadata": {},
   "outputs": [],
   "source": [
    "print(a) # только неотрицательные/положительные значения "
   ]
  },
  {
   "cell_type": "code",
   "execution_count": null,
   "id": "93fe4459",
   "metadata": {},
   "outputs": [],
   "source": [
    "def nearest(lst, target):\n",
    "    return min(lst, key=lambda x: abs(x-target))\n",
    "\n",
    "    "
   ]
  },
  {
   "cell_type": "code",
   "execution_count": null,
   "id": "79875938",
   "metadata": {},
   "outputs": [],
   "source": [
    "for i in range(len(a)): \n",
    "    k = np.sort(a[i])\n",
    "    print(nearest(k, 0.5)) "
   ]
  },
  {
   "cell_type": "markdown",
   "id": "3e385da7",
   "metadata": {},
   "source": [
    "Создайте двумерный массив 6x6, заполненный случайными значениями. Затем сумму по каждой строке поделите на минимальный элемент из столбца с тем же индексом."
   ]
  },
  {
   "cell_type": "code",
   "execution_count": null,
   "id": "7240ea8e",
   "metadata": {},
   "outputs": [],
   "source": [
    "\n",
    "f = np.random.random((6,6))\n",
    "print(f)"
   ]
  },
  {
   "cell_type": "code",
   "execution_count": null,
   "id": "fb4ee8c3",
   "metadata": {},
   "outputs": [],
   "source": [
    "for i in range (6): \n",
    "    print(\"result =\\n\", np.sum(f[i])/np.min(f[i]))"
   ]
  },
  {
   "cell_type": "markdown",
   "id": "062ec2b6",
   "metadata": {},
   "source": [
    "На примере массива x = np.array([6, 2, 0, 3, 0, 0, 5, 7, 0]) найдите максимальный элемент в массиве среди элементов, перед которыми стоит ноль."
   ]
  },
  {
   "cell_type": "code",
   "execution_count": null,
   "id": "88227583",
   "metadata": {},
   "outputs": [],
   "source": [
    "x = np.array([6, 2, 0, 3, 0, 0, 5, 7, 0])\n",
    "print(x)"
   ]
  },
  {
   "cell_type": "code",
   "execution_count": null,
   "id": "76e576cb",
   "metadata": {},
   "outputs": [],
   "source": [
    "for i in range(7): \n",
    "    print(i)\n",
    "\n",
    "zero = x==0\n",
    "print (x[1:][zero[:-1]].max())\n"
   ]
  },
  {
   "cell_type": "markdown",
   "id": "38871562",
   "metadata": {},
   "source": [
    "Пусть заданы два массива x = np.ones(10) и i = np.array([0, 1, 2, 3, 5, 5, 5, 8]). Прибавьте единицу к тем элементам массива x, индексы которых указаны в массиве i. В случае, если некоторый индекс встретился в массиве i несколько раз, прибавьте к соответствующему элементу массива x число вхождений данного индекса в массив i."
   ]
  },
  {
   "cell_type": "code",
   "execution_count": null,
   "id": "1139e910",
   "metadata": {
    "scrolled": true
   },
   "outputs": [],
   "source": [
    "i = np.array([0, 1, 2, 3, 5, 5, 5, 8]).reshape(2,4)\n",
    "x = np.ones(10) \n",
    "for p in range (len(i)): \n",
    "    x[i[p]] = x[i[p]] + 1 \n",
    "print (x) \n",
    "i.shape[]"
   ]
  },
  {
   "cell_type": "markdown",
   "id": "48751633",
   "metadata": {},
   "source": [
    "Написать функцию, реализующую алгоритм k-means. Входные и выходные значения функции должны быть аналогичны https://docs.scipy.org/doc/scipy-0.15.1/reference/generated/scipy.cluster.vq.kmeans.html. Функция должна содержать не более двух циклов while (for)."
   ]
  },
  {
   "cell_type": "code",
   "execution_count": 14,
   "id": "ad853dee",
   "metadata": {},
   "outputs": [],
   "source": [
    "from sklearn.metrics import pairwise_distances_argmin\n",
    "\n",
    "def find_clusters(X, n_clusters, rseed=2):\n",
    "    \n",
    "    rng = np.random.RandomState(rseed)\n",
    "    i = rng.permutation(X.shape[0])[:n_clusters]\n",
    "    centers = X[i]\n",
    "    \n",
    "    while True:\n",
    "        \n",
    "        labels = pairwise_distances_argmin(X, centers)\n",
    "        \n",
    "        \n",
    "        new_centers = np.array([X[labels == i].mean(0)\n",
    "                                for i in range(n_clusters)])\n",
    "        \n",
    "        \n",
    "        if np.all(centers == new_centers):\n",
    "            break\n",
    "        centers = new_centers\n",
    "    \n",
    "    return centers, labels"
   ]
  },
  {
   "cell_type": "markdown",
   "id": "f1bc9a7b",
   "metadata": {},
   "source": [
    "С помощью реализованной функции kmeans выделить кластеры клиентов в разрезах возраст-доход, возрвст-покупательский индекс, доход-покупательский индекс. В каждом случае использовать elbow method для определения оптимального числа кластеров. Визуализировать полученные кластеры (каждый кластер изобразить собственным цветом). Дать интерпретацию полученным кластерам"
   ]
  },
  {
   "cell_type": "code",
   "execution_count": 12,
   "id": "22e67bce",
   "metadata": {},
   "outputs": [
    {
     "data": {
      "text/plain": [
       "array([['0001', 'Male', '19', '15', '39'],\n",
       "       ['0002', 'Male', '21', '15', '81'],\n",
       "       ['0003', 'Female', '20', '16', '6'],\n",
       "       ['0004', 'Female', '23', '16', '77'],\n",
       "       ['0005', 'Female', '31', '17', '40'],\n",
       "       ['0006', 'Female', '22', '17', '76'],\n",
       "       ['0007', 'Female', '35', '18', '6'],\n",
       "       ['0008', 'Female', '23', '18', '94']], dtype=object)"
      ]
     },
     "execution_count": 12,
     "metadata": {},
     "output_type": "execute_result"
    }
   ],
   "source": [
    "url = 'https://raw.githubusercontent.com/sharmaroshan/Clustering-of-Mall-Customers/master/Mall_Customers.csv'\n",
    "data = np.loadtxt(url, delimiter=',', dtype=object, skiprows=1)\n",
    "data[:8]\n"
   ]
  },
  {
   "cell_type": "markdown",
   "id": "406df076",
   "metadata": {},
   "source": []
  }
 ],
 "metadata": {
  "kernelspec": {
   "display_name": "Python 3",
   "language": "python",
   "name": "python3"
  },
  "language_info": {
   "codemirror_mode": {
    "name": "ipython",
    "version": 3
   },
   "file_extension": ".py",
   "mimetype": "text/x-python",
   "name": "python",
   "nbconvert_exporter": "python",
   "pygments_lexer": "ipython3",
   "version": "3.8.8"
  }
 },
 "nbformat": 4,
 "nbformat_minor": 5
}
