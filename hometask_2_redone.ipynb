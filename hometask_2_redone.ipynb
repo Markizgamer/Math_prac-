{
 "cells": [
  {
   "cell_type": "markdown",
   "id": "ca7cb764",
   "metadata": {},
   "source": [
    "1) \n",
    "Создайте двумерный массив 10x3, заполненный случайными значениями. В каждой строке выберите значение, наиболее близкое к 0.5."
   ]
  },
  {
   "cell_type": "code",
   "execution_count": 1,
   "id": "faee0a1c",
   "metadata": {},
   "outputs": [
    {
     "name": "stdout",
     "output_type": "stream",
     "text": [
      "[[0.34077135 0.70544162 0.75097468]\n",
      " [0.22761033 0.46304247 0.75103927]\n",
      " [0.35222389 0.16247149 0.62555887]\n",
      " [0.23561339 0.24702112 0.6598573 ]\n",
      " [0.7319744  0.62986514 0.46255244]\n",
      " [0.36106051 0.91918361 0.35227798]\n",
      " [0.16382234 0.37828624 0.74975277]\n",
      " [0.89524987 0.44926063 0.52082769]\n",
      " [0.33647191 0.87095175 0.01872126]\n",
      " [0.99581124 0.78777827 0.65775626]]\n"
     ]
    }
   ],
   "source": [
    "import numpy as np\n",
    "a=np.random.random((10, 3))\n",
    "print(a)\n"
   ]
  },
  {
   "cell_type": "code",
   "execution_count": 2,
   "id": "2a9bd710",
   "metadata": {},
   "outputs": [
    {
     "name": "stdout",
     "output_type": "stream",
     "text": [
      "[0.15922865 0.03695753 0.12555887 0.1598573  0.03744756 0.13893949\n",
      " 0.12171376 0.02082769 0.16352809 0.15775626] 5\n"
     ]
    }
   ],
   "source": [
    "print(np.min(abs(a-0.5), axis = 1) + 0,5) "
   ]
  },
  {
   "cell_type": "code",
   "execution_count": null,
   "id": "93fe4459",
   "metadata": {},
   "outputs": [],
   "source": [
    "\n",
    "    "
   ]
  },
  {
   "cell_type": "code",
   "execution_count": 3,
   "id": "7240ea8e",
   "metadata": {},
   "outputs": [
    {
     "name": "stdout",
     "output_type": "stream",
     "text": [
      "[[0.69819997 0.81192178 0.72977218 0.3710224  0.5560972  0.67419822]\n",
      " [0.00775022 0.67521401 0.37150456 0.68696151 0.88264178 0.55261665]\n",
      " [0.04759327 0.30014819 0.51770466 0.43343982 0.81316089 0.54578029]\n",
      " [0.23835864 0.66060854 0.89206759 0.03817982 0.86190788 0.23953861]\n",
      " [0.25910877 0.43547494 0.30489758 0.45677256 0.86627504 0.74142075]\n",
      " [0.9234635  0.9438549  0.77806755 0.4166486  0.31839754 0.88988055]]\n"
     ]
    }
   ],
   "source": [
    "\n",
    "f = np.random.random((6,6))\n",
    "print(f)"
   ]
  },
  {
   "cell_type": "code",
   "execution_count": 4,
   "id": "fb4ee8c3",
   "metadata": {},
   "outputs": [
    {
     "name": "stdout",
     "output_type": "stream",
     "text": [
      "result =\n",
      " 10.353045377279578\n",
      "result =\n",
      " 409.88352379994905\n",
      "result =\n",
      " 55.84459580998137\n",
      "result =\n",
      " 76.75942834056336\n",
      "result =\n",
      " 11.824955379017869\n",
      "result =\n",
      " 13.411889744129066\n"
     ]
    }
   ],
   "source": [
    "for i in range (6): \n",
    "    print(\"result =\\n\", np.sum(f[i])/np.min(f[i])) "
   ]
  },
  {
   "cell_type": "markdown",
   "id": "062ec2b6",
   "metadata": {},
   "source": [
    "3) \n",
    "На примере массива x = np.array([6, 2, 0, 3, 0, 0, 5, 7, 0]) найдите максимальный элемент в массиве среди элементов, перед которыми стоит ноль."
   ]
  },
  {
   "cell_type": "code",
   "execution_count": 5,
   "id": "88227583",
   "metadata": {},
   "outputs": [
    {
     "name": "stdout",
     "output_type": "stream",
     "text": [
      "[2]\n"
     ]
    }
   ],
   "source": [
    "x = np.array([6, 2, 0, 3, 0, 0, 5, 7, 0])\n",
    "print(x[0:][(x == 2)])"
   ]
  },
  {
   "cell_type": "code",
   "execution_count": 6,
   "id": "76e576cb",
   "metadata": {},
   "outputs": [
    {
     "name": "stdout",
     "output_type": "stream",
     "text": [
      "5\n"
     ]
    }
   ],
   "source": [
    "\n",
    "zero = x==0\n",
    "print (x[1:][zero[:-1]].max()) #это массив потому что "
   ]
  },
  {
   "cell_type": "markdown",
   "id": "38871562",
   "metadata": {},
   "source": [
    "4)\n",
    "Пусть заданы два массива x = np.ones(10) и i = np.array([0, 1, 2, 3, 5, 5, 5, 8]). Прибавьте единицу к тем элементам массива x, индексы которых указаны в массиве i. В случае, если некоторый индекс встретился в массиве i несколько раз, прибавьте к соответствующему элементу массива x число вхождений данного индекса в массив i."
   ]
  },
  {
   "cell_type": "code",
   "execution_count": 7,
   "id": "1139e910",
   "metadata": {
    "scrolled": true
   },
   "outputs": [
    {
     "name": "stdout",
     "output_type": "stream",
     "text": [
      "[2. 2. 2. 2. 1. 4. 1. 1. 2. 1.]\n"
     ]
    }
   ],
   "source": [
    "i = np.array([0, 1, 2, 3, 5, 5, 5, 8])\n",
    "k = np.arange(len(i))\n",
    "\n",
    "x = np.ones(10) \n",
    "\n",
    "for p in range (len(i)): \n",
    "    x[i[p]] = x[i[p]] + 1 \n",
    "print (x) "
   ]
  },
  {
   "cell_type": "markdown",
   "id": "48751633",
   "metadata": {},
   "source": [
    "5)\n",
    "Написать функцию, реализующую алгоритм k-means. Входные и выходные значения функции должны быть аналогичны https://docs.scipy.org/doc/scipy-0.15.1/reference/generated/scipy.cluster.vq.kmeans.html. Функция должна содержать не более двух циклов while (for)."
   ]
  },
  {
   "cell_type": "code",
   "execution_count": 8,
   "id": "c881a304",
   "metadata": {
    "scrolled": true
   },
   "outputs": [
    {
     "name": "stdout",
     "output_type": "stream",
     "text": [
      "[['0001' 'Male' '19' '15' '39']\n",
      " ['0002' 'Male' '21' '15' '81']\n",
      " ['0003' 'Female' '20' '16' '6']\n",
      " ['0004' 'Female' '23' '16' '77']\n",
      " ['0005' 'Female' '31' '17' '40']\n",
      " ['0006' 'Female' '22' '17' '76']\n",
      " ['0007' 'Female' '35' '18' '6']\n",
      " ['0008' 'Female' '23' '18' '94']\n",
      " ['0009' 'Male' '64' '19' '3']\n",
      " ['0010' 'Female' '30' '19' '72']\n",
      " ['0011' 'Male' '67' '19' '14']\n",
      " ['0012' 'Female' '35' '19' '99']\n",
      " ['0013' 'Female' '58' '20' '15']\n",
      " ['0014' 'Female' '24' '20' '77']\n",
      " ['0015' 'Male' '37' '20' '13']\n",
      " ['0016' 'Male' '22' '20' '79']\n",
      " ['0017' 'Female' '35' '21' '35']\n",
      " ['0018' 'Male' '20' '21' '66']\n",
      " ['0019' 'Male' '52' '23' '29']\n",
      " ['0020' 'Female' '35' '23' '98']\n",
      " ['0021' 'Male' '35' '24' '35']\n",
      " ['0022' 'Male' '25' '24' '73']\n",
      " ['0023' 'Female' '46' '25' '5']\n",
      " ['0024' 'Male' '31' '25' '73']\n",
      " ['0025' 'Female' '54' '28' '14']\n",
      " ['0026' 'Male' '29' '28' '82']\n",
      " ['0027' 'Female' '45' '28' '32']\n",
      " ['0028' 'Male' '35' '28' '61']\n",
      " ['0029' 'Female' '40' '29' '31']\n",
      " ['0030' 'Female' '23' '29' '87']\n",
      " ['0031' 'Male' '60' '30' '4']\n",
      " ['0032' 'Female' '21' '30' '73']\n",
      " ['0033' 'Male' '53' '33' '4']\n",
      " ['0034' 'Male' '18' '33' '92']\n",
      " ['0035' 'Female' '49' '33' '14']\n",
      " ['0036' 'Female' '21' '33' '81']\n",
      " ['0037' 'Female' '42' '34' '17']\n",
      " ['0038' 'Female' '30' '34' '73']\n",
      " ['0039' 'Female' '36' '37' '26']\n",
      " ['0040' 'Female' '20' '37' '75']\n",
      " ['0041' 'Female' '65' '38' '35']\n",
      " ['0042' 'Male' '24' '38' '92']\n",
      " ['0043' 'Male' '48' '39' '36']\n",
      " ['0044' 'Female' '31' '39' '61']\n",
      " ['0045' 'Female' '49' '39' '28']\n",
      " ['0046' 'Female' '24' '39' '65']\n",
      " ['0047' 'Female' '50' '40' '55']\n",
      " ['0048' 'Female' '27' '40' '47']\n",
      " ['0049' 'Female' '29' '40' '42']\n",
      " ['0050' 'Female' '31' '40' '42']\n",
      " ['0051' 'Female' '49' '42' '52']\n",
      " ['0052' 'Male' '33' '42' '60']\n",
      " ['0053' 'Female' '31' '43' '54']\n",
      " ['0054' 'Male' '59' '43' '60']\n",
      " ['0055' 'Female' '50' '43' '45']\n",
      " ['0056' 'Male' '47' '43' '41']\n",
      " ['0057' 'Female' '51' '44' '50']\n",
      " ['0058' 'Male' '69' '44' '46']\n",
      " ['0059' 'Female' '27' '46' '51']\n",
      " ['0060' 'Male' '53' '46' '46']\n",
      " ['0061' 'Male' '70' '46' '56']\n",
      " ['0062' 'Male' '19' '46' '55']\n",
      " ['0063' 'Female' '67' '47' '52']\n",
      " ['0064' 'Female' '54' '47' '59']\n",
      " ['0065' 'Male' '63' '48' '51']\n",
      " ['0066' 'Male' '18' '48' '59']\n",
      " ['0067' 'Female' '43' '48' '50']\n",
      " ['0068' 'Female' '68' '48' '48']\n",
      " ['0069' 'Male' '19' '48' '59']\n",
      " ['0070' 'Female' '32' '48' '47']\n",
      " ['0071' 'Male' '70' '49' '55']\n",
      " ['0072' 'Female' '47' '49' '42']\n",
      " ['0073' 'Female' '60' '50' '49']\n",
      " ['0074' 'Female' '60' '50' '56']\n",
      " ['0075' 'Male' '59' '54' '47']\n",
      " ['0076' 'Male' '26' '54' '54']\n",
      " ['0077' 'Female' '45' '54' '53']\n",
      " ['0078' 'Male' '40' '54' '48']\n",
      " ['0079' 'Female' '23' '54' '52']\n",
      " ['0080' 'Female' '49' '54' '42']\n",
      " ['0081' 'Male' '57' '54' '51']\n",
      " ['0082' 'Male' '38' '54' '55']\n",
      " ['0083' 'Male' '67' '54' '41']\n",
      " ['0084' 'Female' '46' '54' '44']\n",
      " ['0085' 'Female' '21' '54' '57']\n",
      " ['0086' 'Male' '48' '54' '46']\n",
      " ['0087' 'Female' '55' '57' '58']\n",
      " ['0088' 'Female' '22' '57' '55']\n",
      " ['0089' 'Female' '34' '58' '60']\n",
      " ['0090' 'Female' '50' '58' '46']\n",
      " ['0091' 'Female' '68' '59' '55']\n",
      " ['0092' 'Male' '18' '59' '41']\n",
      " ['0093' 'Male' '48' '60' '49']\n",
      " ['0094' 'Female' '40' '60' '40']\n",
      " ['0095' 'Female' '32' '60' '42']\n",
      " ['0096' 'Male' '24' '60' '52']\n",
      " ['0097' 'Female' '47' '60' '47']\n",
      " ['0098' 'Female' '27' '60' '50']\n",
      " ['0099' 'Male' '48' '61' '42']\n",
      " ['0100' 'Male' '20' '61' '49']\n",
      " ['0101' 'Female' '23' '62' '41']\n",
      " ['0102' 'Female' '49' '62' '48']\n",
      " ['0103' 'Male' '67' '62' '59']\n",
      " ['0104' 'Male' '26' '62' '55']\n",
      " ['0105' 'Male' '49' '62' '56']\n",
      " ['0106' 'Female' '21' '62' '42']\n",
      " ['0107' 'Female' '66' '63' '50']\n",
      " ['0108' 'Male' '54' '63' '46']\n",
      " ['0109' 'Male' '68' '63' '43']\n",
      " ['0110' 'Male' '66' '63' '48']\n",
      " ['0111' 'Male' '65' '63' '52']\n",
      " ['0112' 'Female' '19' '63' '54']\n",
      " ['0113' 'Female' '38' '64' '42']\n",
      " ['0114' 'Male' '19' '64' '46']\n",
      " ['0115' 'Female' '18' '65' '48']\n",
      " ['0116' 'Female' '19' '65' '50']\n",
      " ['0117' 'Female' '63' '65' '43']\n",
      " ['0118' 'Female' '49' '65' '59']\n",
      " ['0119' 'Female' '51' '67' '43']\n",
      " ['0120' 'Female' '50' '67' '57']\n",
      " ['0121' 'Male' '27' '67' '56']\n",
      " ['0122' 'Female' '38' '67' '40']\n",
      " ['0123' 'Female' '40' '69' '58']\n",
      " ['0124' 'Male' '39' '69' '91']\n",
      " ['0125' 'Female' '23' '70' '29']\n",
      " ['0126' 'Female' '31' '70' '77']\n",
      " ['0127' 'Male' '43' '71' '35']\n",
      " ['0128' 'Male' '40' '71' '95']\n",
      " ['0129' 'Male' '59' '71' '11']\n",
      " ['0130' 'Male' '38' '71' '75']\n",
      " ['0131' 'Male' '47' '71' '9']\n",
      " ['0132' 'Male' '39' '71' '75']\n",
      " ['0133' 'Female' '25' '72' '34']\n",
      " ['0134' 'Female' '31' '72' '71']\n",
      " ['0135' 'Male' '20' '73' '5']\n",
      " ['0136' 'Female' '29' '73' '88']\n",
      " ['0137' 'Female' '44' '73' '7']\n",
      " ['0138' 'Male' '32' '73' '73']\n",
      " ['0139' 'Male' '19' '74' '10']\n",
      " ['0140' 'Female' '35' '74' '72']\n",
      " ['0141' 'Female' '57' '75' '5']\n",
      " ['0142' 'Male' '32' '75' '93']\n",
      " ['0143' 'Female' '28' '76' '40']\n",
      " ['0144' 'Female' '32' '76' '87']\n",
      " ['0145' 'Male' '25' '77' '12']\n",
      " ['0146' 'Male' '28' '77' '97']\n",
      " ['0147' 'Male' '48' '77' '36']\n",
      " ['0148' 'Female' '32' '77' '74']\n",
      " ['0149' 'Female' '34' '78' '22']\n",
      " ['0150' 'Male' '34' '78' '90']\n",
      " ['0151' 'Male' '43' '78' '17']\n",
      " ['0152' 'Male' '39' '78' '88']\n",
      " ['0153' 'Female' '44' '78' '20']\n",
      " ['0154' 'Female' '38' '78' '76']\n",
      " ['0155' 'Female' '47' '78' '16']\n",
      " ['0156' 'Female' '27' '78' '89']\n",
      " ['0157' 'Male' '37' '78' '1']\n",
      " ['0158' 'Female' '30' '78' '78']\n",
      " ['0159' 'Male' '34' '78' '1']\n",
      " ['0160' 'Female' '30' '78' '73']\n",
      " ['0161' 'Female' '56' '79' '35']\n",
      " ['0162' 'Female' '29' '79' '83']\n",
      " ['0163' 'Male' '19' '81' '5']\n",
      " ['0164' 'Female' '31' '81' '93']\n",
      " ['0165' 'Male' '50' '85' '26']\n",
      " ['0166' 'Female' '36' '85' '75']\n",
      " ['0167' 'Male' '42' '86' '20']\n",
      " ['0168' 'Female' '33' '86' '95']\n",
      " ['0169' 'Female' '36' '87' '27']\n",
      " ['0170' 'Male' '32' '87' '63']\n",
      " ['0171' 'Male' '40' '87' '13']\n",
      " ['0172' 'Male' '28' '87' '75']\n",
      " ['0173' 'Male' '36' '87' '10']\n",
      " ['0174' 'Male' '36' '87' '92']\n",
      " ['0175' 'Female' '52' '88' '13']\n",
      " ['0176' 'Female' '30' '88' '86']\n",
      " ['0177' 'Male' '58' '88' '15']\n",
      " ['0178' 'Male' '27' '88' '69']\n",
      " ['0179' 'Male' '59' '93' '14']\n",
      " ['0180' 'Male' '35' '93' '90']\n",
      " ['0181' 'Female' '37' '97' '32']\n",
      " ['0182' 'Female' '32' '97' '86']\n",
      " ['0183' 'Male' '46' '98' '15']\n",
      " ['0184' 'Female' '29' '98' '88']\n",
      " ['0185' 'Female' '41' '99' '39']\n",
      " ['0186' 'Male' '30' '99' '97']\n",
      " ['0187' 'Female' '54' '101' '24']\n",
      " ['0188' 'Male' '28' '101' '68']\n",
      " ['0189' 'Female' '41' '103' '17']\n",
      " ['0190' 'Female' '36' '103' '85']\n",
      " ['0191' 'Female' '34' '103' '23']\n",
      " ['0192' 'Female' '32' '103' '69']\n",
      " ['0193' 'Male' '33' '113' '8']\n",
      " ['0194' 'Female' '38' '113' '91']\n",
      " ['0195' 'Female' '47' '120' '16']\n",
      " ['0196' 'Female' '35' '120' '79']\n",
      " ['0197' 'Female' '45' '126' '28']\n",
      " ['0198' 'Male' '32' '126' '74']\n",
      " ['0199' 'Male' '32' '137' '18']\n",
      " ['0200' 'Male' '30' '137' '83']]\n",
      "//////\n",
      "[0 0 0 0 0 0 0 0 0 0 0 0 0 0 0 0 0 0 0 0 0 0 0 0 0 0 0 0 0 0 0 0 0 0 0 0 0\n",
      " 0 0 0 0 0 0 0 0 0 0 0 0 0 0 0 0 0 0 0 0 0 0 0 0 0 0 0 0 0 0 0 0 0 0 0 0 0\n",
      " 0 0 0 0 0 0 0 0 0 0 0 0 0 0 0 0 0 0 0 0 0 0 0 0 0 0 0 0 0 0 0 0 0 0 0 0 0\n",
      " 0 0 0 0 0 0 0 0 0 0 0 0 0 0 0 0 0 0 0 0 0 0 0 0 0 0 0 0 0 0 0 0 0 0 0 0 0\n",
      " 0 0 0 0 0 0 0 0 0 0 0 0 0 0 0 0 0 0 0 0 0 0 0 0 0 0 0 0 0 0 0 0 0 0 0 0 0\n",
      " 0 0 0 0 0 0 0 0 0 0 0 0 0 0 0]\n"
     ]
    },
    {
     "data": {
      "text/plain": [
       "array(['Male', 'Male', 'Female', 'Female', 'Female', 'Female', 'Female',\n",
       "       'Female', 'Male', 'Female', 'Male', 'Female', 'Female', 'Female',\n",
       "       'Male', 'Male', 'Female', 'Male', 'Male', 'Female', 'Male', 'Male',\n",
       "       'Female', 'Male', 'Female', 'Male', 'Female', 'Male', 'Female',\n",
       "       'Female', 'Male', 'Female', 'Male', 'Male', 'Female', 'Female',\n",
       "       'Female', 'Female', 'Female', 'Female', 'Female', 'Male', 'Male',\n",
       "       'Female', 'Female', 'Female', 'Female', 'Female', 'Female',\n",
       "       'Female', 'Female', 'Male', 'Female', 'Male', 'Female', 'Male',\n",
       "       'Female', 'Male', 'Female', 'Male', 'Male', 'Male', 'Female',\n",
       "       'Female', 'Male', 'Male', 'Female', 'Female', 'Male', 'Female',\n",
       "       'Male', 'Female', 'Female', 'Female', 'Male', 'Male', 'Female',\n",
       "       'Male', 'Female', 'Female', 'Male', 'Male', 'Male', 'Female',\n",
       "       'Female', 'Male', 'Female', 'Female', 'Female', 'Female', 'Female',\n",
       "       'Male', 'Male', 'Female', 'Female', 'Male', 'Female', 'Female',\n",
       "       'Male', 'Male', 'Female', 'Female', 'Male', 'Male', 'Male',\n",
       "       'Female', 'Female', 'Male', 'Male', 'Male', 'Male', 'Female',\n",
       "       'Female', 'Male', 'Female', 'Female', 'Female', 'Female', 'Female',\n",
       "       'Female', 'Male', 'Female', 'Female', 'Male', 'Female', 'Female',\n",
       "       'Male', 'Male', 'Male', 'Male', 'Male', 'Male', 'Female', 'Female',\n",
       "       'Male', 'Female', 'Female', 'Male', 'Male', 'Female', 'Female',\n",
       "       'Male', 'Female', 'Female', 'Male', 'Male', 'Male', 'Female',\n",
       "       'Female', 'Male', 'Male', 'Male', 'Female', 'Female', 'Female',\n",
       "       'Female', 'Male', 'Female', 'Male', 'Female', 'Female', 'Female',\n",
       "       'Male', 'Female', 'Male', 'Female', 'Male', 'Female', 'Female',\n",
       "       'Male', 'Male', 'Male', 'Male', 'Male', 'Female', 'Female', 'Male',\n",
       "       'Male', 'Male', 'Male', 'Female', 'Female', 'Male', 'Female',\n",
       "       'Female', 'Male', 'Female', 'Male', 'Female', 'Female', 'Female',\n",
       "       'Female', 'Male', 'Female', 'Female', 'Female', 'Female', 'Male',\n",
       "       'Male', 'Male'], dtype=object)"
      ]
     },
     "execution_count": 8,
     "metadata": {},
     "output_type": "execute_result"
    }
   ],
   "source": [
    "url = 'https://raw.githubusercontent.com/sharmaroshan/Clustering-of-Mall-Customers/master/Mall_Customers.csv'\n",
    "data = np.loadtxt(url, delimiter=',', dtype=object, skiprows=1)\n",
    "len(data[:,0]) #число строк в функции\n",
    "print(data)\n",
    "print('//////')\n",
    "arr = data[np.random.choice(range(len(data)), 5, False)]\n",
    "print(data.argmin(axis=1))\n",
    "data[:, 1]\n",
    "\n",
    "\n",
    "\n",
    "\n"
   ]
  },
  {
   "cell_type": "code",
   "execution_count": 101,
   "id": "ad853dee",
   "metadata": {},
   "outputs": [],
   "source": [
    "import numpy.random \n",
    "from scipy.spatial import distance\n",
    "def kmeans(obs, k_or_guess, iter=20, thresh=1e-05): #k_or_guess has int or ndarray type\n",
    "  if type(k_or_guess) == int:\n",
    "    arr = obs[np.random.choice(range(len(obs)), k_or_guess, False)]# мы генерируем массив размера k на n , случайным образом выбирая строки из входного массива  \n",
    "   \n",
    "  else:\n",
    "    arr = k_or_guess# иначе это наш изначально заданный массив k на n, который мы захотели \n",
    "    \n",
    "  prev_dist = -1 # это \n",
    "  cur_dist = distance.cdist(obs, arr, 'sqeuclidean').min(axis = 1).sum() #это расстояние после, при этом obs у нас матрица с n строками \n",
    "    \n",
    "  while abs(cur_dist - prev_dist) > thresh:\n",
    "    new_arr = np.empty((len(arr[:, 0]),len(arr[0]))) #это мы создали массив в который забиваем центроиды k на n\n",
    "    dist = distance.cdist(obs, arr, 'sqeuclidean') # матрица n на k, расстояние от всех x до всех s \n",
    "    temp = np.hstack((obs, dist.argmin(axis=1).reshape(len(dist),1))) #argmin возвращает индексы минимальных элементов, выдает их в виде столбцов, мы каждому x сопоставляем центроид свой здесь массив n на k+1 получается\n",
    "    for i in range(len(arr)):  # от 1 до k // у нас массив k на n, это массив центроидов\n",
    "      new_arr[i] = temp[temp[:, -1] == i].mean(axis=0)[:-1] #берем, пробегаем по всем кластерам берем новые центроиды как матожидание для выборки принадлежащей каждому кластеру \n",
    "    arr = new_arr #наш новый массив, становится текущим \n",
    "    prev_dist = cur_dist\n",
    "    cur_dist = distance.cdist(obs, arr, 'sqeuclidean').min(axis = 1).sum()\n",
    "    #пересчитываем расстояния                     \n",
    "  return arr, cur_dist #поитогу возвращаем массив центроидов и значение функции, которое за k проходов так или иначе минимизировалось дисторшн возвращаем "
   ]
  },
  {
   "cell_type": "code",
   "execution_count": 100,
   "id": "98b12a5f",
   "metadata": {},
   "outputs": [],
   "source": [
    "def findind(Data, centers):\n",
    "    return np.vectorize(lambda i: np.argmin(np.apply_along_axis(lambda c: np.linalg.norm(Data[i] - c), 1, centers)))(np.arange(Data.shape[0]))   \n",
    "\n"
   ]
  },
  {
   "cell_type": "code",
   "execution_count": 11,
   "id": "f64ffb42",
   "metadata": {},
   "outputs": [
    {
     "name": "stdout",
     "output_type": "stream",
     "text": [
      "[['Male' '19' '15' '39']\n",
      " ['Male' '21' '15' '81']\n",
      " ['Female' '20' '16' '6']\n",
      " ['Female' '23' '16' '77']\n",
      " ['Female' '31' '17' '40']\n",
      " ['Female' '22' '17' '76']\n",
      " ['Female' '35' '18' '6']\n",
      " ['Female' '23' '18' '94']\n",
      " ['Male' '64' '19' '3']\n",
      " ['Female' '30' '19' '72']\n",
      " ['Male' '67' '19' '14']\n",
      " ['Female' '35' '19' '99']\n",
      " ['Female' '58' '20' '15']\n",
      " ['Female' '24' '20' '77']\n",
      " ['Male' '37' '20' '13']\n",
      " ['Male' '22' '20' '79']\n",
      " ['Female' '35' '21' '35']\n",
      " ['Male' '20' '21' '66']\n",
      " ['Male' '52' '23' '29']\n",
      " ['Female' '35' '23' '98']\n",
      " ['Male' '35' '24' '35']\n",
      " ['Male' '25' '24' '73']\n",
      " ['Female' '46' '25' '5']\n",
      " ['Male' '31' '25' '73']\n",
      " ['Female' '54' '28' '14']\n",
      " ['Male' '29' '28' '82']\n",
      " ['Female' '45' '28' '32']\n",
      " ['Male' '35' '28' '61']\n",
      " ['Female' '40' '29' '31']\n",
      " ['Female' '23' '29' '87']\n",
      " ['Male' '60' '30' '4']\n",
      " ['Female' '21' '30' '73']\n",
      " ['Male' '53' '33' '4']\n",
      " ['Male' '18' '33' '92']\n",
      " ['Female' '49' '33' '14']\n",
      " ['Female' '21' '33' '81']\n",
      " ['Female' '42' '34' '17']\n",
      " ['Female' '30' '34' '73']\n",
      " ['Female' '36' '37' '26']\n",
      " ['Female' '20' '37' '75']\n",
      " ['Female' '65' '38' '35']\n",
      " ['Male' '24' '38' '92']\n",
      " ['Male' '48' '39' '36']\n",
      " ['Female' '31' '39' '61']\n",
      " ['Female' '49' '39' '28']\n",
      " ['Female' '24' '39' '65']\n",
      " ['Female' '50' '40' '55']\n",
      " ['Female' '27' '40' '47']\n",
      " ['Female' '29' '40' '42']\n",
      " ['Female' '31' '40' '42']\n",
      " ['Female' '49' '42' '52']\n",
      " ['Male' '33' '42' '60']\n",
      " ['Female' '31' '43' '54']\n",
      " ['Male' '59' '43' '60']\n",
      " ['Female' '50' '43' '45']\n",
      " ['Male' '47' '43' '41']\n",
      " ['Female' '51' '44' '50']\n",
      " ['Male' '69' '44' '46']\n",
      " ['Female' '27' '46' '51']\n",
      " ['Male' '53' '46' '46']\n",
      " ['Male' '70' '46' '56']\n",
      " ['Male' '19' '46' '55']\n",
      " ['Female' '67' '47' '52']\n",
      " ['Female' '54' '47' '59']\n",
      " ['Male' '63' '48' '51']\n",
      " ['Male' '18' '48' '59']\n",
      " ['Female' '43' '48' '50']\n",
      " ['Female' '68' '48' '48']\n",
      " ['Male' '19' '48' '59']\n",
      " ['Female' '32' '48' '47']\n",
      " ['Male' '70' '49' '55']\n",
      " ['Female' '47' '49' '42']\n",
      " ['Female' '60' '50' '49']\n",
      " ['Female' '60' '50' '56']\n",
      " ['Male' '59' '54' '47']\n",
      " ['Male' '26' '54' '54']\n",
      " ['Female' '45' '54' '53']\n",
      " ['Male' '40' '54' '48']\n",
      " ['Female' '23' '54' '52']\n",
      " ['Female' '49' '54' '42']\n",
      " ['Male' '57' '54' '51']\n",
      " ['Male' '38' '54' '55']\n",
      " ['Male' '67' '54' '41']\n",
      " ['Female' '46' '54' '44']\n",
      " ['Female' '21' '54' '57']\n",
      " ['Male' '48' '54' '46']\n",
      " ['Female' '55' '57' '58']\n",
      " ['Female' '22' '57' '55']\n",
      " ['Female' '34' '58' '60']\n",
      " ['Female' '50' '58' '46']\n",
      " ['Female' '68' '59' '55']\n",
      " ['Male' '18' '59' '41']\n",
      " ['Male' '48' '60' '49']\n",
      " ['Female' '40' '60' '40']\n",
      " ['Female' '32' '60' '42']\n",
      " ['Male' '24' '60' '52']\n",
      " ['Female' '47' '60' '47']\n",
      " ['Female' '27' '60' '50']\n",
      " ['Male' '48' '61' '42']\n",
      " ['Male' '20' '61' '49']\n",
      " ['Female' '23' '62' '41']\n",
      " ['Female' '49' '62' '48']\n",
      " ['Male' '67' '62' '59']\n",
      " ['Male' '26' '62' '55']\n",
      " ['Male' '49' '62' '56']\n",
      " ['Female' '21' '62' '42']\n",
      " ['Female' '66' '63' '50']\n",
      " ['Male' '54' '63' '46']\n",
      " ['Male' '68' '63' '43']\n",
      " ['Male' '66' '63' '48']\n",
      " ['Male' '65' '63' '52']\n",
      " ['Female' '19' '63' '54']\n",
      " ['Female' '38' '64' '42']\n",
      " ['Male' '19' '64' '46']\n",
      " ['Female' '18' '65' '48']\n",
      " ['Female' '19' '65' '50']\n",
      " ['Female' '63' '65' '43']\n",
      " ['Female' '49' '65' '59']\n",
      " ['Female' '51' '67' '43']\n",
      " ['Female' '50' '67' '57']\n",
      " ['Male' '27' '67' '56']\n",
      " ['Female' '38' '67' '40']\n",
      " ['Female' '40' '69' '58']\n",
      " ['Male' '39' '69' '91']\n",
      " ['Female' '23' '70' '29']\n",
      " ['Female' '31' '70' '77']\n",
      " ['Male' '43' '71' '35']\n",
      " ['Male' '40' '71' '95']\n",
      " ['Male' '59' '71' '11']\n",
      " ['Male' '38' '71' '75']\n",
      " ['Male' '47' '71' '9']\n",
      " ['Male' '39' '71' '75']\n",
      " ['Female' '25' '72' '34']\n",
      " ['Female' '31' '72' '71']\n",
      " ['Male' '20' '73' '5']\n",
      " ['Female' '29' '73' '88']\n",
      " ['Female' '44' '73' '7']\n",
      " ['Male' '32' '73' '73']\n",
      " ['Male' '19' '74' '10']\n",
      " ['Female' '35' '74' '72']\n",
      " ['Female' '57' '75' '5']\n",
      " ['Male' '32' '75' '93']\n",
      " ['Female' '28' '76' '40']\n",
      " ['Female' '32' '76' '87']\n",
      " ['Male' '25' '77' '12']\n",
      " ['Male' '28' '77' '97']\n",
      " ['Male' '48' '77' '36']\n",
      " ['Female' '32' '77' '74']\n",
      " ['Female' '34' '78' '22']\n",
      " ['Male' '34' '78' '90']\n",
      " ['Male' '43' '78' '17']\n",
      " ['Male' '39' '78' '88']\n",
      " ['Female' '44' '78' '20']\n",
      " ['Female' '38' '78' '76']\n",
      " ['Female' '47' '78' '16']\n",
      " ['Female' '27' '78' '89']\n",
      " ['Male' '37' '78' '1']\n",
      " ['Female' '30' '78' '78']\n",
      " ['Male' '34' '78' '1']\n",
      " ['Female' '30' '78' '73']\n",
      " ['Female' '56' '79' '35']\n",
      " ['Female' '29' '79' '83']\n",
      " ['Male' '19' '81' '5']\n",
      " ['Female' '31' '81' '93']\n",
      " ['Male' '50' '85' '26']\n",
      " ['Female' '36' '85' '75']\n",
      " ['Male' '42' '86' '20']\n",
      " ['Female' '33' '86' '95']\n",
      " ['Female' '36' '87' '27']\n",
      " ['Male' '32' '87' '63']\n",
      " ['Male' '40' '87' '13']\n",
      " ['Male' '28' '87' '75']\n",
      " ['Male' '36' '87' '10']\n",
      " ['Male' '36' '87' '92']\n",
      " ['Female' '52' '88' '13']\n",
      " ['Female' '30' '88' '86']\n",
      " ['Male' '58' '88' '15']\n",
      " ['Male' '27' '88' '69']\n",
      " ['Male' '59' '93' '14']\n",
      " ['Male' '35' '93' '90']\n",
      " ['Female' '37' '97' '32']\n",
      " ['Female' '32' '97' '86']\n",
      " ['Male' '46' '98' '15']\n",
      " ['Female' '29' '98' '88']\n",
      " ['Female' '41' '99' '39']\n",
      " ['Male' '30' '99' '97']\n",
      " ['Female' '54' '101' '24']\n",
      " ['Male' '28' '101' '68']\n",
      " ['Female' '41' '103' '17']\n",
      " ['Female' '36' '103' '85']\n",
      " ['Female' '34' '103' '23']\n",
      " ['Female' '32' '103' '69']\n",
      " ['Male' '33' '113' '8']\n",
      " ['Female' '38' '113' '91']\n",
      " ['Female' '47' '120' '16']\n",
      " ['Female' '35' '120' '79']\n",
      " ['Female' '45' '126' '28']\n",
      " ['Male' '32' '126' '74']\n",
      " ['Male' '32' '137' '18']\n",
      " ['Male' '30' '137' '83']]\n"
     ]
    }
   ],
   "source": [
    "a = data[:,1:]\n",
    "\n",
    "print(a)"
   ]
  },
  {
   "cell_type": "markdown",
   "id": "f1bc9a7b",
   "metadata": {},
   "source": [
    "6) \n",
    "С помощью реализованной функции kmeans выделить кластеры клиентов в разрезах возраст-доход, возрвст-покупательский индекс, доход-покупательский индекс. В каждом случае использовать elbow method для определения оптимального числа кластеров. Визуализировать полученные кластеры (каждый кластер изобразить собственным цветом). Дать интерпретацию полученным кластерам"
   ]
  },
  {
   "cell_type": "code",
   "execution_count": 53,
   "id": "22e67bce",
   "metadata": {
    "scrolled": true
   },
   "outputs": [
    {
     "data": {
      "text/plain": [
       "array([[ 1.,  1., 19., 15., 39.],\n",
       "       [ 2.,  1., 21., 15., 81.],\n",
       "       [ 3.,  0., 20., 16.,  6.],\n",
       "       [ 4.,  0., 23., 16., 77.],\n",
       "       [ 5.,  0., 31., 17., 40.]])"
      ]
     },
     "execution_count": 53,
     "metadata": {},
     "output_type": "execute_result"
    }
   ],
   "source": [
    "url = 'https://raw.githubusercontent.com/sharmaroshan/Clustering-of-Mall-Customers/master/Mall_Customers.csv'\n",
    "data = np.loadtxt(url, delimiter=',', dtype=object, skiprows=1)\n",
    "data[:5]\n",
    "import matplotlib.pyplot as plt\n",
    "data[:, 1] = data[:, 1] == 'Male'\n",
    "data = data.astype(float)\n",
    "data[:5]"
   ]
  },
  {
   "cell_type": "code",
   "execution_count": 70,
   "id": "64a33ce6",
   "metadata": {},
   "outputs": [
    {
     "data": {
      "image/png": "[encoded data removed]",
      "text/plain": [
       "<Figure size 432x288 with 1 Axes>"
      ]
     },
     "metadata": {
      "needs_background": "light"
     },
     "output_type": "display_data"
    }
   ],
   "source": [
    "age_income = data[:,[2,3]]#age income \n",
    "disp_list = []\n",
    "num_of_exp = 20\n",
    "for k in range(1, num_of_exp):\n",
    "  ans = kmeans(age_income, k)\n",
    "  disp_list.append(kmeans(age_income, k)[1])\n",
    "  #draw_comp(age_income, k, ans[0], labels=['Age', 'Annual Income'])\n",
    "plt.xlabel('Number_k')\n",
    "plt.ylabel('Dispersion')\n",
    "plt.plot(range(1, num_of_exp), disp_list, '-o')\n",
    "plt.show()"
   ]
  },
  {
   "cell_type": "code",
   "execution_count": 99,
   "id": "e487c356",
   "metadata": {},
   "outputs": [
    {
     "data": {
      "text/plain": [
       "<matplotlib.collections.PathCollection at 0x7fd971dbd130>"
      ]
     },
     "execution_count": 99,
     "metadata": {},
     "output_type": "execute_result"
    },
    {
     "data": {
      "image/png": "[encoded data removed]",
      "text/plain": [
       "<Figure size 432x288 with 1 Axes>"
      ]
     },
     "metadata": {
      "needs_background": "light"
     },
     "output_type": "display_data"
    }
   ],
   "source": [
    "centers_income = kmeans(age_income, 3)[0]\n",
    "ind_income = findind(age_income, centers_income)\n",
    "plt.scatter(age_income[:,0],age_income[:,1], c = ind_income\n",
    "           )\n",
    "\n"
   ]
  },
  {
   "cell_type": "markdown",
   "id": "406df076",
   "metadata": {},
   "source": []
  },
  {
   "cell_type": "code",
   "execution_count": 74,
   "id": "13f3fa7a",
   "metadata": {},
   "outputs": [
    {
     "data": {
      "text/plain": [
       "[<matplotlib.lines.Line2D at 0x7fd970bffa00>]"
      ]
     },
     "execution_count": 74,
     "metadata": {},
     "output_type": "execute_result"
    },
    {
     "data": {
      "image/png": "[encoded data removed]",
      "text/plain": [
       "<Figure size 432x288 with 1 Axes>"
      ]
     },
     "metadata": {
      "needs_background": "light"
     },
     "output_type": "display_data"
    }
   ],
   "source": [
    "age_score = data[:,[2,4]]\n",
    "disp_list = []\n",
    "num_of_exp = 20\n",
    "for k in range(1, num_of_exp):\n",
    "  ans = kmeans(age_score, k)\n",
    "  disp_list.append(kmeans(age_score, k)[1])\n",
    "  #draw_comp(age_score, k, ans[0], labels=['Age', 'Spending Score'])\n",
    "plt.xlabel('Number_k')\n",
    "plt.ylabel('Dispersion')\n",
    "plt.plot(range(1, num_of_exp), disp_list, '-o')"
   ]
  },
  {
   "cell_type": "code",
   "execution_count": 97,
   "id": "c4708cf6",
   "metadata": {},
   "outputs": [
    {
     "data": {
      "text/plain": [
       "<matplotlib.collections.PathCollection at 0x7fd971c128e0>"
      ]
     },
     "execution_count": 97,
     "metadata": {},
     "output_type": "execute_result"
    },
    {
     "data": {
      "image/png": "[encoded data removed]",
      "text/plain": [
       "<Figure size 432x288 with 1 Axes>"
      ]
     },
     "metadata": {
      "needs_background": "light"
     },
     "output_type": "display_data"
    }
   ],
   "source": [
    "centers_score = kmeans(age_score, 4\n",
    "                      )[0]\n",
    "ind_score = findind(age_score, centers_score)\n",
    "plt.scatter(age_score[:,0],age_score[:,1], c = ind_score\n",
    "           )"
   ]
  },
  {
   "cell_type": "code",
   "execution_count": 77,
   "id": "3edc8116",
   "metadata": {},
   "outputs": [
    {
     "data": {
      "text/plain": [
       "[<matplotlib.lines.Line2D at 0x7fd970a15610>]"
      ]
     },
     "execution_count": 77,
     "metadata": {},
     "output_type": "execute_result"
    },
    {
     "data": {
      "image/png": "[encoded data removed]",
      "text/plain": [
       "<Figure size 432x288 with 1 Axes>"
      ]
     },
     "metadata": {
      "needs_background": "light"
     },
     "output_type": "display_data"
    }
   ],
   "source": [
    "income_score = data[:,[3,4]]\n",
    "disp_list = []\n",
    "num_of_exp = 20\n",
    "for k in range(1, num_of_exp):\n",
    "  ans = kmeans(income_score, k)\n",
    "  disp_list.append(kmeans(income_score, k)[1])\n",
    "  #draw_comp(income_score, k, ans[0], labels=['Annual Income', 'Spending Score'])\n",
    "plt.xlabel('Number_k')\n",
    "plt.ylabel('Dispersion')\n",
    "plt.plot(range(1, num_of_exp), disp_list, '-o')"
   ]
  },
  {
   "cell_type": "code",
   "execution_count": 98,
   "id": "4a9e5495",
   "metadata": {},
   "outputs": [
    {
     "data": {
      "text/plain": [
       "<matplotlib.collections.PathCollection at 0x7fd971c8c4f0>"
      ]
     },
     "execution_count": 98,
     "metadata": {},
     "output_type": "execute_result"
    },
    {
     "data": {
      "image/png": "[encoded data removed]",
      "text/plain": [
       "<Figure size 432x288 with 1 Axes>"
      ]
     },
     "metadata": {
      "needs_background": "light"
     },
     "output_type": "display_data"
    }
   ],
   "source": [
    "centers_income_score = kmeans(income_score,5)[0\n",
    "                                             ]\n",
    "ind_score = findind(income_score, centers_income_score)\n",
    "plt.scatter(income_score[:,0],income_score[:,1], c = ind_score\n",
    "           )"
   ]
  },
  {
   "cell_type": "code",
   "execution_count": null,
   "id": "b274635c",
   "metadata": {},
   "outputs": [],
   "source": []
  }
 ],
 "metadata": {
  "kernelspec": {
   "display_name": "Python 3",
   "language": "python",
   "name": "python3"
  },
  "language_info": {
   "codemirror_mode": {
    "name": "ipython",
    "version": 3
   },
   "file_extension": ".py",
   "mimetype": "text/x-python",
   "name": "python",
   "nbconvert_exporter": "python",
   "pygments_lexer": "ipython3",
   "version": "3.8.8"
  }
 },
 "nbformat": 4,
 "nbformat_minor": 5
}
